{
 "cells": [
  {
   "cell_type": "code",
   "execution_count": null,
   "metadata": {},
   "outputs": [],
   "source": [
    "#Libraries\n",
    "import plotly.express as px\n",
    "import plotly.graph_objects as go\n",
    "import plotly.io as pio\n",
    "from plotly.subplots import make_subplots\n",
    "import plotly.graph_objects as go\n"
   ]
  },
  {
   "cell_type": "code",
   "execution_count": null,
   "metadata": {},
   "outputs": [],
   "source": [
    "#Interactive Plot \n",
    "\"\"\" DF SOV\"\"\"\n",
    "df_SOV_plot = (pd.DataFrame(df_SOV_stack_correct.groupby(['SOV_Attribute'])['No'].count()\\\n",
    "                .reset_index(name = \"Count\")))\n",
    "\n",
    "colors_MS = ['ff9901','grey','395185','f24022','5f8c00','#01a4ef','7fba00']\n",
    "\n",
    "fig = make_subplots(rows=1, cols=2,\n",
    "                    specs=[[{\"type\": \"domain\"},{\"type\": \"xy\"}]])\n",
    "\n",
    "\n",
    "fig.add_trace(go.Pie(labels=df_SOV_plot['SOV_Attribute'] , values= df_SOV_plot['Count'], \n",
    "              hole = .5, marker_colors = colors_MS,sort=True),\n",
    "               row = 1, col = 1)   \n",
    "\n",
    "fig.add_trace(go.Bar(x = df_SOV_plot['Count'], y = df_SOV_plot['SOV_Attribute'],\n",
    "              orientation='h', text = df_SOV_plot['Count'],\n",
    "              marker_color='royalblue' ),\n",
    "              row = 1, col = 2) \n",
    "fig.update_traces(textfont_size=13)\n",
    "fig.update_layout(title_text='SOV Q3 Caribbean\\n',\n",
    "                  template=\"plotly_dark\", title_x=0.5,\n",
    "                  width = 980,\n",
    "                  legend=dict(\n",
    "                   orientation=\"h\",\n",
    "                   yanchor=\"bottom\",\n",
    "                   y = -.3,\n",
    "                   xanchor=\"right\",\n",
    "                   x= .7\n",
    "))      \n",
    "fig.update_layout(yaxis={'categoryorder':'total ascending'}) \n",
    "fig.show()"
   ]
  }
 ],
 "metadata": {
  "language_info": {
   "name": "python"
  },
  "orig_nbformat": 4
 },
 "nbformat": 4,
 "nbformat_minor": 2
}
